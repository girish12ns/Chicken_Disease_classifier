{
 "cells": [
  {
   "cell_type": "code",
   "execution_count": 42,
   "metadata": {},
   "outputs": [],
   "source": [
    "import os"
   ]
  },
  {
   "cell_type": "code",
   "execution_count": 43,
   "metadata": {},
   "outputs": [
    {
     "data": {
      "text/plain": [
       "'e:\\\\Chicken_Disease_classifier'"
      ]
     },
     "execution_count": 43,
     "metadata": {},
     "output_type": "execute_result"
    }
   ],
   "source": [
    "%pwd"
   ]
  },
  {
   "cell_type": "code",
   "execution_count": 3,
   "metadata": {},
   "outputs": [],
   "source": [
    "os.chdir('../')"
   ]
  },
  {
   "cell_type": "code",
   "execution_count": 44,
   "metadata": {},
   "outputs": [
    {
     "data": {
      "text/plain": [
       "'e:\\\\Chicken_Disease_classifier'"
      ]
     },
     "execution_count": 44,
     "metadata": {},
     "output_type": "execute_result"
    }
   ],
   "source": [
    "%pwd"
   ]
  },
  {
   "cell_type": "code",
   "execution_count": 45,
   "metadata": {},
   "outputs": [],
   "source": [
    "import tensorflow as tf\n",
    "from  pathlib import Path"
   ]
  },
  {
   "cell_type": "code",
   "execution_count": 46,
   "metadata": {},
   "outputs": [],
   "source": [
    "model=tf.keras.models.load_model('artifacts/training/model.h5')"
   ]
  },
  {
   "cell_type": "code",
   "execution_count": 71,
   "metadata": {},
   "outputs": [],
   "source": [
    "from dataclasses import dataclass\n",
    "\n",
    "@dataclass(frozen=True)\n",
    "class evaluation_config:\n",
    "    path_of_model:Path\n",
    "    training_data:Path\n",
    "    all_params:dict\n",
    "    param_image_size:list\n",
    "    param_batch_size:int\n"
   ]
  },
  {
   "cell_type": "code",
   "execution_count": 72,
   "metadata": {},
   "outputs": [],
   "source": [
    "from CHICKEN_DISEASE_CLASSIFIER.utils.common import read_yaml,save_json,create_directories\n",
    "from CHICKEN_DISEASE_CLASSIFIER.constants import *"
   ]
  },
  {
   "cell_type": "code",
   "execution_count": 74,
   "metadata": {},
   "outputs": [],
   "source": [
    "class Configuraion:\n",
    "\n",
    "    def __init__(self,file_path=config_file_path,param_file=param_file_path):\n",
    "        self.config=read_yaml(file_path)\n",
    "        self.params=read_yaml(param_file)\n",
    "\n",
    "        create_directories([self.config.artifacts_root])\n",
    "\n",
    "    def get_validation_data_config(self)->evaluation_config:\n",
    "        \n",
    "        eval_config=evaluation_config(\n",
    "            path_of_model=\"artifacts/training/model.h5\",\n",
    "            training_data=\"artifacts/data_ingestion\",\n",
    "            all_params=self.params,\n",
    "            param_image_size=self.params.IMAGE_SIZE,\n",
    "            param_batch_size=self.params.BATCH_SIZE\n",
    "\n",
    "\n",
    "        )\n",
    "        return eval_config\n"
   ]
  },
  {
   "cell_type": "code",
   "execution_count": 1,
   "metadata": {},
   "outputs": [
    {
     "ename": "NameError",
     "evalue": "name 'evaluation_config' is not defined",
     "output_type": "error",
     "traceback": [
      "\u001b[1;31m---------------------------------------------------------------------------\u001b[0m",
      "\u001b[1;31mNameError\u001b[0m                                 Traceback (most recent call last)",
      "Cell \u001b[1;32mIn[1], line 1\u001b[0m\n\u001b[1;32m----> 1\u001b[0m \u001b[39mclass\u001b[39;00m \u001b[39mEvaluation\u001b[39;00m:\n\u001b[0;32m      2\u001b[0m     \u001b[39mdef\u001b[39;00m \u001b[39m__init__\u001b[39m(\u001b[39mself\u001b[39m,config:evaluation_config):\n\u001b[0;32m      3\u001b[0m         \u001b[39mself\u001b[39m\u001b[39m.\u001b[39mconfig\u001b[39m=\u001b[39mconfig\n",
      "Cell \u001b[1;32mIn[1], line 2\u001b[0m, in \u001b[0;36mEvaluation\u001b[1;34m()\u001b[0m\n\u001b[0;32m      1\u001b[0m \u001b[39mclass\u001b[39;00m \u001b[39mEvaluation\u001b[39;00m:\n\u001b[1;32m----> 2\u001b[0m     \u001b[39mdef\u001b[39;00m \u001b[39m__init__\u001b[39m(\u001b[39mself\u001b[39m,config:evaluation_config):\n\u001b[0;32m      3\u001b[0m         \u001b[39mself\u001b[39m\u001b[39m.\u001b[39mconfig\u001b[39m=\u001b[39mconfig\n\u001b[0;32m      5\u001b[0m     \u001b[39mdef\u001b[39;00m \u001b[39m_valid_generator\u001b[39m(\u001b[39mself\u001b[39m):\n",
      "\u001b[1;31mNameError\u001b[0m: name 'evaluation_config' is not defined"
     ]
    }
   ],
   "source": [
    "class Evaluation:\n",
    "    def __init__(self,config:evaluation_config):\n",
    "        self.config=config\n",
    "\n",
    "    def _valid_generator(self):\n",
    "\n",
    "        data_generator_kwargs=dict(\n",
    "            rescale=1./255,\n",
    "            validation_split=0.30\n",
    "        )\n",
    "\n",
    "        dataflow_kwargs=dict(\n",
    "            target_size=self.config.param_image_size[:-1],\n",
    "            batch_size=self.config.param_batch_size,\n",
    "            interpolation='bilinear',\n",
    "            )\n",
    "        valid_generaor=tf.keras.preprocessing.image.ImageDataGenerator(\n",
    "            **data_generator_kwargs \n",
    "            )\n",
    "        self.valid_generator=valid_generaor.flow_from_directory(\n",
    "            directory=self.config.training_data,\n",
    "            subset=\"validation\",\n",
    "            shuffle=False,\n",
    "            **dataflow_kwargs\n",
    "            \n",
    "        )\n",
    "    @staticmethod\n",
    "    def load_model(path:Path)->tf.keras.Model:\n",
    "            return tf.keras.models.load_model(path)\n",
    "        \n",
    "    def evaluation_model(self):\n",
    "            self.model=self.load_model(path=self.config.path_of_model)\n",
    "            self._valid_generator()\n",
    "            self.score=self.model.evaluate(self.valid_generator)\n",
    "\n",
    "    def save_score(self):\n",
    "        scores={'loss':self.score[0],\"accuracy\":self.score[1]}\n",
    "        save_json(path=Path(\"scores.jason\"),data=scores)\n",
    "        \n",
    "\n",
    "        \n",
    "\n"
   ]
  },
  {
   "cell_type": "code",
   "execution_count": 78,
   "metadata": {},
   "outputs": [
    {
     "name": "stdout",
     "output_type": "stream",
     "text": [
      "[2023-08-16 12:08:37,465: INFO: common: yaml file: config\\config.yaml loaded successfully]\n",
      "[2023-08-16 12:08:37,510: INFO: common: yaml file: params.yaml loaded successfully]\n",
      "[2023-08-16 12:08:37,527: INFO: common: created directory at: artifacts]\n",
      "Found 2418 images belonging to 4 classes.\n",
      "152/152 [==============================] - 1767s 12s/step - loss: 2.1022 - accuracy: 0.8222\n",
      "[2023-08-16 12:38:09,912: INFO: common: json file saved at: scores.jason]\n"
     ]
    }
   ],
   "source": [
    "try:\n",
    "    config = Configuraion()\n",
    "    val_config = config.get_validation_data_config()\n",
    "    evaluation = Evaluation(val_config)\n",
    "    evaluation.evaluation_model()\n",
    "    evaluation.save_score()\n",
    "\n",
    "except Exception as e:\n",
    "   raise e"
   ]
  },
  {
   "cell_type": "code",
   "execution_count": null,
   "metadata": {},
   "outputs": [],
   "source": []
  },
  {
   "cell_type": "code",
   "execution_count": null,
   "metadata": {},
   "outputs": [],
   "source": [
    "\n"
   ]
  }
 ],
 "metadata": {
  "kernelspec": {
   "display_name": "CHICKEN_DISEASE",
   "language": "python",
   "name": "python3"
  },
  "language_info": {
   "codemirror_mode": {
    "name": "ipython",
    "version": 3
   },
   "file_extension": ".py",
   "mimetype": "text/x-python",
   "name": "python",
   "nbconvert_exporter": "python",
   "pygments_lexer": "ipython3",
   "version": "3.8.17"
  },
  "orig_nbformat": 4
 },
 "nbformat": 4,
 "nbformat_minor": 2
}
