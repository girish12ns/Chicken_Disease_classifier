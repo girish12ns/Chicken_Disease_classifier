{
 "cells": [
  {
   "cell_type": "code",
   "execution_count": 5,
   "metadata": {},
   "outputs": [],
   "source": [
    "import os"
   ]
  },
  {
   "cell_type": "code",
   "execution_count": 6,
   "metadata": {},
   "outputs": [
    {
     "data": {
      "text/plain": [
       "'e:\\\\Chicken_Disease_classifier\\\\research'"
      ]
     },
     "execution_count": 6,
     "metadata": {},
     "output_type": "execute_result"
    }
   ],
   "source": [
    "%pwd"
   ]
  },
  {
   "cell_type": "code",
   "execution_count": 7,
   "metadata": {},
   "outputs": [],
   "source": [
    "os.chdir('../')"
   ]
  },
  {
   "cell_type": "code",
   "execution_count": 8,
   "metadata": {},
   "outputs": [
    {
     "data": {
      "text/plain": [
       "'e:\\\\Chicken_Disease_classifier'"
      ]
     },
     "execution_count": 8,
     "metadata": {},
     "output_type": "execute_result"
    }
   ],
   "source": [
    "%pwd"
   ]
  },
  {
   "cell_type": "code",
   "execution_count": 9,
   "metadata": {},
   "outputs": [],
   "source": [
    "from dataclasses import dataclass\n",
    "from pathlib import Path"
   ]
  },
  {
   "cell_type": "code",
   "execution_count": 12,
   "metadata": {},
   "outputs": [],
   "source": [
    "@dataclass(frozen=True)\n",
    "class DataIngestionconfig:\n",
    "    root_dir:Path\n",
    "    source_dir:Path\n",
    "    category_1_dir: Path \n",
    "    category_2_dir: Path\n",
    "    category_3_dir: Path\n",
    "    category_4_dir: Path\n",
    "\n"
   ]
  },
  {
   "cell_type": "code",
   "execution_count": 13,
   "metadata": {},
   "outputs": [],
   "source": [
    "from CHICKEN_DISEASE_CLASSIFIER.constants import config_file_path,param_file_path\n",
    "from CHICKEN_DISEASE_CLASSIFIER.utils.common import read_yaml,create_directories"
   ]
  },
  {
   "cell_type": "code",
   "execution_count": 14,
   "metadata": {},
   "outputs": [],
   "source": [
    "import yaml\n",
    "from box import ConfigBox\n",
    "\n",
    "def read_yaml(file_path):\n",
    "\n",
    "    with open(file_path,'r') as f:\n",
    "        content=yaml.safe_load(f)\n",
    "    return ConfigBox(content)"
   ]
  },
  {
   "cell_type": "code",
   "execution_count": 106,
   "metadata": {},
   "outputs": [
    {
     "name": "stdout",
     "output_type": "stream",
     "text": [
      "config\\config.yaml\n"
     ]
    }
   ],
   "source": [
    "from pathlib import Path\n",
    "x=Path('config\\config.yaml')\n",
    "print(x)"
   ]
  },
  {
   "cell_type": "code",
   "execution_count": 107,
   "metadata": {},
   "outputs": [
    {
     "name": "stdout",
     "output_type": "stream",
     "text": [
      "{'artifacts_root': 'artifacts', 'Data_ingestion': {'root_dir': 'artifacts/data_ingestion', 'source_dir': 'Data_notebook/Data/Train'}}\n"
     ]
    }
   ],
   "source": [
    "k=read_yaml(x)\n",
    "print(k)"
   ]
  },
  {
   "cell_type": "code",
   "execution_count": 108,
   "metadata": {},
   "outputs": [
    {
     "data": {
      "text/plain": [
       "'Data_notebook/Data/Train'"
      ]
     },
     "execution_count": 108,
     "metadata": {},
     "output_type": "execute_result"
    }
   ],
   "source": [
    "k.Data_ingestion.source_dir"
   ]
  },
  {
   "cell_type": "code",
   "execution_count": 21,
   "metadata": {},
   "outputs": [],
   "source": [
    "class ConfigurationManager:\n",
    "    def __init__(self,\n",
    "                 config_filepath=config_file_path,\n",
    "                 param_filepath=param_file_path):\n",
    "            \n",
    "            self.config=read_yaml(config_filepath)\n",
    "            self.params=read_yaml(param_filepath)\n",
    "\n",
    "            create_directories([self.config.artifacts_root])\n",
    "\n",
    "    def get_data_ingestion_config(self)->DataIngestionconfig:\n",
    "          \n",
    "          config=self.config.Data_ingestion\n",
    "          \n",
    "\n",
    "          create_directories([config.root_dir,config.category_1_dir,config.category_2_dir,\n",
    "                              \n",
    "                             config.category_3_dir,config.category_4_dir])\n",
    "\n",
    "          \n",
    "          data_ingestion_config=DataIngestionconfig(\n",
    "                root_dir=config.root_dir,\n",
    "                source_dir=config.source_dir,\n",
    "                category_1_dir=config.category_1_dir,\n",
    "                category_2_dir=config.category_2_dir,\n",
    "                category_3_dir=config.category_3_dir,\n",
    "                category_4_dir=config.category_4_dir)\n",
    "          \n",
    "          return data_ingestion_config\n",
    "\n",
    "          \n",
    "\n",
    "        "
   ]
  },
  {
   "cell_type": "code",
   "execution_count": 19,
   "metadata": {},
   "outputs": [],
   "source": [
    "\n",
    "from PIL import Image\n",
    "import os\n",
    "\n",
    "from pathlib import Path\n",
    "import shutil\n",
    "\n",
    "class DataIngestion:\n",
    "    def __init__(self,config:DataIngestionconfig):\n",
    "        self.config=config\n",
    "\n",
    "    def get_the_data(self):\n",
    "        \n",
    "        for filename in os.scandir(self.config.source_dir):\n",
    "            \n",
    "            if filename.name.startswith('salmo') or filename.name.startswith('pcrsalmo'):\n",
    "                image_path = filename.path\n",
    "                shutil.copy(image_path, self.config.category_1_dir)\n",
    "            elif filename.name.startswith('cocci') or filename.name.startswith('pcrcocci'):\n",
    "                image_path = filename.path\n",
    "                shutil.copy(image_path, self.config.category_2_dir)\n",
    "            elif filename.name.startswith('healthy') or filename.name.startswith('pcrhealthy'):\n",
    "                image_path = filename.path\n",
    "                shutil.copy(image_path, self.config.category_3_dir)\n",
    "            elif filename.name.startswith('ncd') or filename.name.startswith('pcrncd'):\n",
    "                image_path = filename.path\n",
    "                shutil.copy(image_path, self.config.category_4_dir)\n",
    "\n",
    "        \n",
    "            \n",
    "\n",
    "\n",
    "            \n",
    "    \n",
    "        \n",
    "        \n",
    "        \n",
    "        \n",
    "        "
   ]
  },
  {
   "cell_type": "code",
   "execution_count": 22,
   "metadata": {},
   "outputs": [
    {
     "name": "stdout",
     "output_type": "stream",
     "text": [
      "[2023-08-15 21:37:26,535: INFO: common: created directory at: artifacts]\n",
      "[2023-08-15 21:37:26,535: INFO: common: created directory at: artifacts/data_ingestion]\n",
      "[2023-08-15 21:37:26,543: INFO: common: created directory at: artifacts/data_ingestion/Salmonella]\n",
      "[2023-08-15 21:37:26,543: INFO: common: created directory at: artifacts/data_ingestion/Coccidiosis]\n",
      "[2023-08-15 21:37:26,551: INFO: common: created directory at: artifacts/data_ingestion/Healthy]\n",
      "[2023-08-15 21:37:26,551: INFO: common: created directory at: artifacts/data_ingestion/New Castle Disease]\n"
     ]
    },
    {
     "name": "stdout",
     "output_type": "stream",
     "text": [
      "artifacts/data_ingestion\n"
     ]
    }
   ],
   "source": [
    "try:\n",
    "    ingestion=ConfigurationManager()\n",
    "    data_ingestion_config=ingestion.get_data_ingestion_config()\n",
    "    print(data_ingestion_config.root_dir)\n",
    "    data_ingestion=DataIngestion(config=data_ingestion_config)\n",
    "    data_ingestion.get_the_data()\n",
    "except Exception as e:\n",
    "    raise e\n"
   ]
  },
  {
   "cell_type": "code",
   "execution_count": 130,
   "metadata": {},
   "outputs": [
    {
     "data": {
      "text/plain": [
       "'e:\\\\Chicken_Disease_classifier'"
      ]
     },
     "execution_count": 130,
     "metadata": {},
     "output_type": "execute_result"
    }
   ],
   "source": [
    "%pwd"
   ]
  },
  {
   "cell_type": "code",
   "execution_count": null,
   "metadata": {},
   "outputs": [],
   "source": []
  },
  {
   "cell_type": "code",
   "execution_count": null,
   "metadata": {},
   "outputs": [],
   "source": []
  },
  {
   "cell_type": "code",
   "execution_count": null,
   "metadata": {},
   "outputs": [],
   "source": []
  }
 ],
 "metadata": {
  "kernelspec": {
   "display_name": "CHICKEN_DISEASE",
   "language": "python",
   "name": "python3"
  },
  "language_info": {
   "codemirror_mode": {
    "name": "ipython",
    "version": 3
   },
   "file_extension": ".py",
   "mimetype": "text/x-python",
   "name": "python",
   "nbconvert_exporter": "python",
   "pygments_lexer": "ipython3",
   "version": "3.8.17"
  },
  "orig_nbformat": 4
 },
 "nbformat": 4,
 "nbformat_minor": 2
}
